{
  "nbformat": 4,
  "nbformat_minor": 0,
  "metadata": {
    "colab": {
      "provenance": [],
      "authorship_tag": "ABX9TyPHyvxoqJkkwUbxYNcWbQ8p",
      "include_colab_link": true
    },
    "kernelspec": {
      "name": "python3",
      "display_name": "Python 3"
    },
    "language_info": {
      "name": "python"
    }
  },
  "cells": [
    {
      "cell_type": "markdown",
      "metadata": {
        "id": "view-in-github",
        "colab_type": "text"
      },
      "source": [
        "<a href=\"https://colab.research.google.com/github/Armando5347/polaridad-opinion/blob/main/polaridad_de_opinion.ipynb\" target=\"_parent\"><img src=\"https://colab.research.google.com/assets/colab-badge.svg\" alt=\"Open In Colab\"/></a>"
      ]
    },
    {
      "cell_type": "markdown",
      "source": [
        "**Imports a utilizar**"
      ],
      "metadata": {
        "id": "SpwxKfk-2U7n"
      }
    },
    {
      "cell_type": "code",
      "execution_count": 2,
      "metadata": {
        "id": "QJPUFQv_fqxr",
        "collapsed": true
      },
      "outputs": [],
      "source": [
        "import pandas as pd\n",
        "import spacy\n",
        "from sklearn.feature_extraction.text import TfidfVectorizer\n",
        "from sklearn.preprocessing import MinMaxScaler\n",
        "from sklearn.linear_model import LogisticRegression\n",
        "from sklearn.model_selection import train_test_split, GridSearchCV\n",
        "from sklearn.svm import SVC\n",
        "from sklearn.metrics import classification_report\n",
        "from sklearn.pipeline import Pipeline\n",
        "from sklearn.neural_network import MLPClassifier\n",
        "import re\n",
        "import pickle"
      ]
    },
    {
      "cell_type": "markdown",
      "source": [
        "**Obtener el dataset**"
      ],
      "metadata": {
        "id": "Sx1a3JqU2k4v"
      }
    },
    {
      "cell_type": "code",
      "source": [
        "\n",
        "data = pd.read_excel(\"Rest_Mex_2022.xlsx\")\n",
        "print (data)\n",
        "\n",
        "train_split, test_split = train_test_split(\n",
        "        data,\n",
        "        test_size=0.2,  # 20% para prueba y 80% para entrenamiento\n",
        "        random_state=0,  # Semilla para asegurar reproducibilidad\n",
        "        stratify=data['Polarity']  # Mantener proporciones de clase\n",
        "    )\n",
        "\n",
        "X_train = train_split[\"Opinion\"]\n",
        "y_train = train_split[\"Polarity\"]\n",
        "X_test = test_split[\"Opinion\"]\n",
        "y_test = test_split[\"Polarity\"]"
      ],
      "metadata": {
        "colab": {
          "base_uri": "https://localhost:8080/"
        },
        "collapsed": true,
        "id": "Dd51DDjO2n2x",
        "outputId": "dcce3b7b-024e-4980-bdab-f4fb62ad88fa"
      },
      "execution_count": 4,
      "outputs": [
        {
          "output_type": "stream",
          "name": "stdout",
          "text": [
            "                                       Title  ...  Attraction\n",
            "0                               Pésimo lugar  ...       Hotel\n",
            "1                  No vayas a lugar de Eddie  ...  Restaurant\n",
            "2               Mala relación calidad-precio  ...       Hotel\n",
            "3           Minusválido? ¡No te alojes aquí!  ...       Hotel\n",
            "4      Es una porqueria no pierdan su tiempo  ...       Hotel\n",
            "...                                      ...  ...         ...\n",
            "30207          Verdadera joya arquitectónica  ...  Attractive\n",
            "30208                              Romántico  ...  Attractive\n",
            "30209                     Parece un castillo  ...  Attractive\n",
            "30210                             Imperdible  ...  Attractive\n",
            "30211                       Muy bonita vista  ...  Attractive\n",
            "\n",
            "[30212 rows x 4 columns]\n"
          ]
        }
      ]
    },
    {
      "cell_type": "markdown",
      "source": [
        "**Crear pipeline, junto con los grid_search_view para los clasificadores**"
      ],
      "metadata": {
        "id": "3_KRhWCs-GY1"
      }
    },
    {
      "cell_type": "code",
      "source": [
        "clasificadores = [SVC(random_state=0), MLPClassifier(random_state=0)]\n",
        "param_grid_svc = {\n",
        "                'classifier__C': [0.1, 1, 10],  # Hiperparámetro C para SVM\n",
        "                'classifier__kernel': ['linear', 'rbf', 'poly'],  # Tipo de kernel\n",
        "                'classifier__gamma': ['scale', 'auto']  # Parámetro gamma\n",
        "            }\n",
        "\n",
        "param_grid_mlp = {\n",
        "                'classifier__C': [0.1, 1, 10],  # Hiperparámetro C para SVM\n",
        "                'classifier__kernel': ['linear', 'rbf', 'poly'],  # Tipo de kernel\n",
        "                'classifier__gamma': ['scale', 'auto']  # Parámetro gamma\n",
        "            }\n",
        "for clasificador in clasificadores:\n",
        "  pipe = Pipeline([('text_representation', TfidfVectorizer(token_pattern= r'(?u)\\w+|\\w+\\n|\\.|\\¿|\\?', ngram_range=(1,1))), ('classifier',clasificador)])\n",
        "  if isinstance(clasificador, SVC):\n",
        "    grid_search = GridSearchCV(pipe, param_grid_svc, cv=5, scoring='accuracy')\n",
        "  else:\n",
        "    grid_search = GridSearchCV(pipe, param_grid_mlp, cv=5, scoring='accuracy')\n",
        "  # Entrenar el modelo con GridSearchCV\n",
        "  grid_search.fit(X_train, y_train)\n",
        "  print(str(grid_search.best_params_))\n",
        "  y_pred = grid_search.predict(X_test)\n",
        "  print(classification_report(y_test, y_pred))\n"
      ],
      "metadata": {
        "id": "H2gA3Lbv-OPT"
      },
      "execution_count": null,
      "outputs": []
    }
  ]
}